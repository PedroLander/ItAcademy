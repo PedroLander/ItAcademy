{
 "cells": [
  {
   "cell_type": "markdown",
   "id": "63e4cbb5",
   "metadata": {},
   "source": [
    "### Ejercicio 1 "
   ]
  },
  {
   "cell_type": "code",
   "execution_count": 1,
   "id": "8828f66e",
   "metadata": {},
   "outputs": [],
   "source": [
    "import pandas as pd"
   ]
  },
  {
   "cell_type": "markdown",
   "id": "65373f4c",
   "metadata": {},
   "source": [
    "#### Cargamos el DataFrame"
   ]
  },
  {
   "cell_type": "code",
   "execution_count": 2,
   "id": "13f79967",
   "metadata": {},
   "outputs": [],
   "source": [
    "air_df = pd.read_csv('C:/Users/user1/Downloads/archive/DelayedFlights.csv')"
   ]
  },
  {
   "cell_type": "markdown",
   "id": "538093dd",
   "metadata": {},
   "source": [
    "#### Exploramos el DataFrame"
   ]
  },
  {
   "cell_type": "code",
   "execution_count": 3,
   "id": "10a5e670",
   "metadata": {},
   "outputs": [
    {
     "data": {
      "text/html": [
       "<div>\n",
       "<style scoped>\n",
       "    .dataframe tbody tr th:only-of-type {\n",
       "        vertical-align: middle;\n",
       "    }\n",
       "\n",
       "    .dataframe tbody tr th {\n",
       "        vertical-align: top;\n",
       "    }\n",
       "\n",
       "    .dataframe thead th {\n",
       "        text-align: right;\n",
       "    }\n",
       "</style>\n",
       "<table border=\"1\" class=\"dataframe\">\n",
       "  <thead>\n",
       "    <tr style=\"text-align: right;\">\n",
       "      <th></th>\n",
       "      <th>Unnamed: 0</th>\n",
       "      <th>Year</th>\n",
       "      <th>Month</th>\n",
       "      <th>DayofMonth</th>\n",
       "      <th>DayOfWeek</th>\n",
       "      <th>DepTime</th>\n",
       "      <th>CRSDepTime</th>\n",
       "      <th>ArrTime</th>\n",
       "      <th>CRSArrTime</th>\n",
       "      <th>UniqueCarrier</th>\n",
       "      <th>...</th>\n",
       "      <th>TaxiIn</th>\n",
       "      <th>TaxiOut</th>\n",
       "      <th>Cancelled</th>\n",
       "      <th>CancellationCode</th>\n",
       "      <th>Diverted</th>\n",
       "      <th>CarrierDelay</th>\n",
       "      <th>WeatherDelay</th>\n",
       "      <th>NASDelay</th>\n",
       "      <th>SecurityDelay</th>\n",
       "      <th>LateAircraftDelay</th>\n",
       "    </tr>\n",
       "  </thead>\n",
       "  <tbody>\n",
       "    <tr>\n",
       "      <th>0</th>\n",
       "      <td>0</td>\n",
       "      <td>2008</td>\n",
       "      <td>1</td>\n",
       "      <td>3</td>\n",
       "      <td>4</td>\n",
       "      <td>2003.0</td>\n",
       "      <td>1955</td>\n",
       "      <td>2211.0</td>\n",
       "      <td>2225</td>\n",
       "      <td>WN</td>\n",
       "      <td>...</td>\n",
       "      <td>4.0</td>\n",
       "      <td>8.0</td>\n",
       "      <td>0</td>\n",
       "      <td>N</td>\n",
       "      <td>0</td>\n",
       "      <td>NaN</td>\n",
       "      <td>NaN</td>\n",
       "      <td>NaN</td>\n",
       "      <td>NaN</td>\n",
       "      <td>NaN</td>\n",
       "    </tr>\n",
       "    <tr>\n",
       "      <th>1</th>\n",
       "      <td>1</td>\n",
       "      <td>2008</td>\n",
       "      <td>1</td>\n",
       "      <td>3</td>\n",
       "      <td>4</td>\n",
       "      <td>754.0</td>\n",
       "      <td>735</td>\n",
       "      <td>1002.0</td>\n",
       "      <td>1000</td>\n",
       "      <td>WN</td>\n",
       "      <td>...</td>\n",
       "      <td>5.0</td>\n",
       "      <td>10.0</td>\n",
       "      <td>0</td>\n",
       "      <td>N</td>\n",
       "      <td>0</td>\n",
       "      <td>NaN</td>\n",
       "      <td>NaN</td>\n",
       "      <td>NaN</td>\n",
       "      <td>NaN</td>\n",
       "      <td>NaN</td>\n",
       "    </tr>\n",
       "    <tr>\n",
       "      <th>2</th>\n",
       "      <td>2</td>\n",
       "      <td>2008</td>\n",
       "      <td>1</td>\n",
       "      <td>3</td>\n",
       "      <td>4</td>\n",
       "      <td>628.0</td>\n",
       "      <td>620</td>\n",
       "      <td>804.0</td>\n",
       "      <td>750</td>\n",
       "      <td>WN</td>\n",
       "      <td>...</td>\n",
       "      <td>3.0</td>\n",
       "      <td>17.0</td>\n",
       "      <td>0</td>\n",
       "      <td>N</td>\n",
       "      <td>0</td>\n",
       "      <td>NaN</td>\n",
       "      <td>NaN</td>\n",
       "      <td>NaN</td>\n",
       "      <td>NaN</td>\n",
       "      <td>NaN</td>\n",
       "    </tr>\n",
       "  </tbody>\n",
       "</table>\n",
       "<p>3 rows × 30 columns</p>\n",
       "</div>"
      ],
      "text/plain": [
       "   Unnamed: 0  Year  Month  DayofMonth  DayOfWeek  DepTime  CRSDepTime  \\\n",
       "0           0  2008      1           3          4   2003.0        1955   \n",
       "1           1  2008      1           3          4    754.0         735   \n",
       "2           2  2008      1           3          4    628.0         620   \n",
       "\n",
       "   ArrTime  CRSArrTime UniqueCarrier  ...  TaxiIn TaxiOut  Cancelled  \\\n",
       "0   2211.0        2225            WN  ...     4.0     8.0          0   \n",
       "1   1002.0        1000            WN  ...     5.0    10.0          0   \n",
       "2    804.0         750            WN  ...     3.0    17.0          0   \n",
       "\n",
       "   CancellationCode  Diverted  CarrierDelay  WeatherDelay NASDelay  \\\n",
       "0                 N         0           NaN           NaN      NaN   \n",
       "1                 N         0           NaN           NaN      NaN   \n",
       "2                 N         0           NaN           NaN      NaN   \n",
       "\n",
       "  SecurityDelay  LateAircraftDelay  \n",
       "0           NaN                NaN  \n",
       "1           NaN                NaN  \n",
       "2           NaN                NaN  \n",
       "\n",
       "[3 rows x 30 columns]"
      ]
     },
     "execution_count": 3,
     "metadata": {},
     "output_type": "execute_result"
    }
   ],
   "source": [
    "air_df[:3]"
   ]
  },
  {
   "cell_type": "code",
   "execution_count": 4,
   "id": "8f962cbe",
   "metadata": {},
   "outputs": [
    {
     "data": {
      "text/plain": [
       "Index(['Unnamed: 0', 'Year', 'Month', 'DayofMonth', 'DayOfWeek', 'DepTime',\n",
       "       'CRSDepTime', 'ArrTime', 'CRSArrTime', 'UniqueCarrier', 'FlightNum',\n",
       "       'TailNum', 'ActualElapsedTime', 'CRSElapsedTime', 'AirTime', 'ArrDelay',\n",
       "       'DepDelay', 'Origin', 'Dest', 'Distance', 'TaxiIn', 'TaxiOut',\n",
       "       'Cancelled', 'CancellationCode', 'Diverted', 'CarrierDelay',\n",
       "       'WeatherDelay', 'NASDelay', 'SecurityDelay', 'LateAircraftDelay'],\n",
       "      dtype='object')"
      ]
     },
     "execution_count": 4,
     "metadata": {},
     "output_type": "execute_result"
    }
   ],
   "source": [
    "air_df.columns"
   ]
  },
  {
   "cell_type": "markdown",
   "id": "16225132",
   "metadata": {},
   "source": [
    "#### Creamos un DataFrame sólo con las columnas relevantes"
   ]
  },
  {
   "cell_type": "code",
   "execution_count": 5,
   "id": "2d6379e0",
   "metadata": {},
   "outputs": [],
   "source": [
    "delay_df = air_df[['Year','Month','DayofMonth','DayOfWeek','DepTime','ArrTime', 'AirTime',\n",
    "                   'DepDelay','ArrDelay','Origin','Dest','Distance']]"
   ]
  },
  {
   "cell_type": "markdown",
   "id": "e5f4161e",
   "metadata": {},
   "source": [
    "### Ejercicio 2"
   ]
  },
  {
   "cell_type": "markdown",
   "id": "a101e71d",
   "metadata": {},
   "source": [
    "#### Resumen estadístico de las columnas de interés"
   ]
  },
  {
   "cell_type": "code",
   "execution_count": 6,
   "id": "91b0a865",
   "metadata": {},
   "outputs": [
    {
     "data": {
      "text/html": [
       "<div>\n",
       "<style scoped>\n",
       "    .dataframe tbody tr th:only-of-type {\n",
       "        vertical-align: middle;\n",
       "    }\n",
       "\n",
       "    .dataframe tbody tr th {\n",
       "        vertical-align: top;\n",
       "    }\n",
       "\n",
       "    .dataframe thead th {\n",
       "        text-align: right;\n",
       "    }\n",
       "</style>\n",
       "<table border=\"1\" class=\"dataframe\">\n",
       "  <thead>\n",
       "    <tr style=\"text-align: right;\">\n",
       "      <th></th>\n",
       "      <th>Year</th>\n",
       "      <th>Month</th>\n",
       "      <th>DayofMonth</th>\n",
       "      <th>DayOfWeek</th>\n",
       "      <th>DepTime</th>\n",
       "      <th>ArrTime</th>\n",
       "      <th>AirTime</th>\n",
       "      <th>DepDelay</th>\n",
       "      <th>ArrDelay</th>\n",
       "      <th>Distance</th>\n",
       "    </tr>\n",
       "  </thead>\n",
       "  <tbody>\n",
       "    <tr>\n",
       "      <th>count</th>\n",
       "      <td>1936758.0</td>\n",
       "      <td>1.936758e+06</td>\n",
       "      <td>1.936758e+06</td>\n",
       "      <td>1.936758e+06</td>\n",
       "      <td>1.936758e+06</td>\n",
       "      <td>1.929648e+06</td>\n",
       "      <td>1.928371e+06</td>\n",
       "      <td>1.936758e+06</td>\n",
       "      <td>1.928371e+06</td>\n",
       "      <td>1.936758e+06</td>\n",
       "    </tr>\n",
       "    <tr>\n",
       "      <th>mean</th>\n",
       "      <td>2008.0</td>\n",
       "      <td>6.111106e+00</td>\n",
       "      <td>1.575347e+01</td>\n",
       "      <td>3.984827e+00</td>\n",
       "      <td>1.518534e+03</td>\n",
       "      <td>1.610141e+03</td>\n",
       "      <td>1.082771e+02</td>\n",
       "      <td>4.318518e+01</td>\n",
       "      <td>4.219988e+01</td>\n",
       "      <td>7.656862e+02</td>\n",
       "    </tr>\n",
       "    <tr>\n",
       "      <th>std</th>\n",
       "      <td>0.0</td>\n",
       "      <td>3.482546e+00</td>\n",
       "      <td>8.776272e+00</td>\n",
       "      <td>1.995966e+00</td>\n",
       "      <td>4.504853e+02</td>\n",
       "      <td>5.481781e+02</td>\n",
       "      <td>6.864261e+01</td>\n",
       "      <td>5.340250e+01</td>\n",
       "      <td>5.678472e+01</td>\n",
       "      <td>5.744797e+02</td>\n",
       "    </tr>\n",
       "    <tr>\n",
       "      <th>min</th>\n",
       "      <td>2008.0</td>\n",
       "      <td>1.000000e+00</td>\n",
       "      <td>1.000000e+00</td>\n",
       "      <td>1.000000e+00</td>\n",
       "      <td>1.000000e+00</td>\n",
       "      <td>1.000000e+00</td>\n",
       "      <td>0.000000e+00</td>\n",
       "      <td>6.000000e+00</td>\n",
       "      <td>-1.090000e+02</td>\n",
       "      <td>1.100000e+01</td>\n",
       "    </tr>\n",
       "    <tr>\n",
       "      <th>25%</th>\n",
       "      <td>2008.0</td>\n",
       "      <td>3.000000e+00</td>\n",
       "      <td>8.000000e+00</td>\n",
       "      <td>2.000000e+00</td>\n",
       "      <td>1.203000e+03</td>\n",
       "      <td>1.316000e+03</td>\n",
       "      <td>5.800000e+01</td>\n",
       "      <td>1.200000e+01</td>\n",
       "      <td>9.000000e+00</td>\n",
       "      <td>3.380000e+02</td>\n",
       "    </tr>\n",
       "    <tr>\n",
       "      <th>50%</th>\n",
       "      <td>2008.0</td>\n",
       "      <td>6.000000e+00</td>\n",
       "      <td>1.600000e+01</td>\n",
       "      <td>4.000000e+00</td>\n",
       "      <td>1.545000e+03</td>\n",
       "      <td>1.715000e+03</td>\n",
       "      <td>9.000000e+01</td>\n",
       "      <td>2.400000e+01</td>\n",
       "      <td>2.400000e+01</td>\n",
       "      <td>6.060000e+02</td>\n",
       "    </tr>\n",
       "    <tr>\n",
       "      <th>75%</th>\n",
       "      <td>2008.0</td>\n",
       "      <td>9.000000e+00</td>\n",
       "      <td>2.300000e+01</td>\n",
       "      <td>6.000000e+00</td>\n",
       "      <td>1.900000e+03</td>\n",
       "      <td>2.030000e+03</td>\n",
       "      <td>1.370000e+02</td>\n",
       "      <td>5.300000e+01</td>\n",
       "      <td>5.600000e+01</td>\n",
       "      <td>9.980000e+02</td>\n",
       "    </tr>\n",
       "    <tr>\n",
       "      <th>max</th>\n",
       "      <td>2008.0</td>\n",
       "      <td>1.200000e+01</td>\n",
       "      <td>3.100000e+01</td>\n",
       "      <td>7.000000e+00</td>\n",
       "      <td>2.400000e+03</td>\n",
       "      <td>2.400000e+03</td>\n",
       "      <td>1.091000e+03</td>\n",
       "      <td>2.467000e+03</td>\n",
       "      <td>2.461000e+03</td>\n",
       "      <td>4.962000e+03</td>\n",
       "    </tr>\n",
       "  </tbody>\n",
       "</table>\n",
       "</div>"
      ],
      "text/plain": [
       "            Year         Month    DayofMonth     DayOfWeek       DepTime  \\\n",
       "count  1936758.0  1.936758e+06  1.936758e+06  1.936758e+06  1.936758e+06   \n",
       "mean      2008.0  6.111106e+00  1.575347e+01  3.984827e+00  1.518534e+03   \n",
       "std          0.0  3.482546e+00  8.776272e+00  1.995966e+00  4.504853e+02   \n",
       "min       2008.0  1.000000e+00  1.000000e+00  1.000000e+00  1.000000e+00   \n",
       "25%       2008.0  3.000000e+00  8.000000e+00  2.000000e+00  1.203000e+03   \n",
       "50%       2008.0  6.000000e+00  1.600000e+01  4.000000e+00  1.545000e+03   \n",
       "75%       2008.0  9.000000e+00  2.300000e+01  6.000000e+00  1.900000e+03   \n",
       "max       2008.0  1.200000e+01  3.100000e+01  7.000000e+00  2.400000e+03   \n",
       "\n",
       "            ArrTime       AirTime      DepDelay      ArrDelay      Distance  \n",
       "count  1.929648e+06  1.928371e+06  1.936758e+06  1.928371e+06  1.936758e+06  \n",
       "mean   1.610141e+03  1.082771e+02  4.318518e+01  4.219988e+01  7.656862e+02  \n",
       "std    5.481781e+02  6.864261e+01  5.340250e+01  5.678472e+01  5.744797e+02  \n",
       "min    1.000000e+00  0.000000e+00  6.000000e+00 -1.090000e+02  1.100000e+01  \n",
       "25%    1.316000e+03  5.800000e+01  1.200000e+01  9.000000e+00  3.380000e+02  \n",
       "50%    1.715000e+03  9.000000e+01  2.400000e+01  2.400000e+01  6.060000e+02  \n",
       "75%    2.030000e+03  1.370000e+02  5.300000e+01  5.600000e+01  9.980000e+02  \n",
       "max    2.400000e+03  1.091000e+03  2.467000e+03  2.461000e+03  4.962000e+03  "
      ]
     },
     "execution_count": 6,
     "metadata": {},
     "output_type": "execute_result"
    }
   ],
   "source": [
    "delay_df.describe()"
   ]
  },
  {
   "cell_type": "markdown",
   "id": "9d86c67e",
   "metadata": {},
   "source": [
    "#### Cuántos datos faltan por columna "
   ]
  },
  {
   "cell_type": "code",
   "execution_count": 7,
   "id": "11a26812",
   "metadata": {},
   "outputs": [
    {
     "data": {
      "text/plain": [
       "Year             0\n",
       "Month            0\n",
       "DayofMonth       0\n",
       "DayOfWeek        0\n",
       "DepTime          0\n",
       "ArrTime       7110\n",
       "AirTime       8387\n",
       "DepDelay         0\n",
       "ArrDelay      8387\n",
       "Origin           0\n",
       "Dest             0\n",
       "Distance         0\n",
       "dtype: int64"
      ]
     },
     "execution_count": 7,
     "metadata": {},
     "output_type": "execute_result"
    }
   ],
   "source": [
    "delay_df.isnull().sum()"
   ]
  },
  {
   "cell_type": "markdown",
   "id": "5e1cd26b",
   "metadata": {},
   "source": [
    "#### Agregamos columnas calculadas de 'velocidad media del vuelo' y 'si se ha retrasado la llegada'."
   ]
  },
  {
   "cell_type": "code",
   "execution_count": 8,
   "id": "e108ea10",
   "metadata": {},
   "outputs": [],
   "source": [
    "air_df['MeanSpeed'] = air_df['Distance']/air_df['AirTime']"
   ]
  },
  {
   "cell_type": "code",
   "execution_count": 9,
   "id": "810933d3",
   "metadata": {},
   "outputs": [],
   "source": [
    "def check_delay(time):\n",
    "    if time > 0:\n",
    "        return True\n",
    "    else:\n",
    "        return False\n",
    "\n",
    "air_df['Delayed'] = air_df['ArrDelay'].apply(check_delay)"
   ]
  },
  {
   "cell_type": "code",
   "execution_count": 10,
   "id": "62c968db",
   "metadata": {},
   "outputs": [
    {
     "data": {
      "text/html": [
       "<div>\n",
       "<style scoped>\n",
       "    .dataframe tbody tr th:only-of-type {\n",
       "        vertical-align: middle;\n",
       "    }\n",
       "\n",
       "    .dataframe tbody tr th {\n",
       "        vertical-align: top;\n",
       "    }\n",
       "\n",
       "    .dataframe thead th {\n",
       "        text-align: right;\n",
       "    }\n",
       "</style>\n",
       "<table border=\"1\" class=\"dataframe\">\n",
       "  <thead>\n",
       "    <tr style=\"text-align: right;\">\n",
       "      <th></th>\n",
       "      <th>Year</th>\n",
       "      <th>Month</th>\n",
       "      <th>DayofMonth</th>\n",
       "      <th>UniqueCarrier</th>\n",
       "      <th>FlightNum</th>\n",
       "      <th>Delayed</th>\n",
       "      <th>MeanSpeed</th>\n",
       "    </tr>\n",
       "  </thead>\n",
       "  <tbody>\n",
       "    <tr>\n",
       "      <th>0</th>\n",
       "      <td>2008</td>\n",
       "      <td>1</td>\n",
       "      <td>3</td>\n",
       "      <td>WN</td>\n",
       "      <td>335</td>\n",
       "      <td>False</td>\n",
       "      <td>6.982759</td>\n",
       "    </tr>\n",
       "    <tr>\n",
       "      <th>1</th>\n",
       "      <td>2008</td>\n",
       "      <td>1</td>\n",
       "      <td>3</td>\n",
       "      <td>WN</td>\n",
       "      <td>3231</td>\n",
       "      <td>True</td>\n",
       "      <td>7.168142</td>\n",
       "    </tr>\n",
       "    <tr>\n",
       "      <th>2</th>\n",
       "      <td>2008</td>\n",
       "      <td>1</td>\n",
       "      <td>3</td>\n",
       "      <td>WN</td>\n",
       "      <td>448</td>\n",
       "      <td>True</td>\n",
       "      <td>6.776316</td>\n",
       "    </tr>\n",
       "    <tr>\n",
       "      <th>3</th>\n",
       "      <td>2008</td>\n",
       "      <td>1</td>\n",
       "      <td>3</td>\n",
       "      <td>WN</td>\n",
       "      <td>3920</td>\n",
       "      <td>True</td>\n",
       "      <td>6.688312</td>\n",
       "    </tr>\n",
       "  </tbody>\n",
       "</table>\n",
       "</div>"
      ],
      "text/plain": [
       "   Year  Month  DayofMonth UniqueCarrier  FlightNum  Delayed  MeanSpeed\n",
       "0  2008      1           3            WN        335    False   6.982759\n",
       "1  2008      1           3            WN       3231     True   7.168142\n",
       "2  2008      1           3            WN        448     True   6.776316\n",
       "3  2008      1           3            WN       3920     True   6.688312"
      ]
     },
     "execution_count": 10,
     "metadata": {},
     "output_type": "execute_result"
    }
   ],
   "source": [
    "air_df[['Year','Month','DayofMonth','UniqueCarrier','FlightNum','Delayed', 'MeanSpeed']][:4]"
   ]
  },
  {
   "cell_type": "markdown",
   "id": "e6f3f6aa",
   "metadata": {},
   "source": [
    "#### Tabla de aerolíneas con más retrasos acumulados en la llegada"
   ]
  },
  {
   "cell_type": "code",
   "execution_count": 11,
   "id": "dc4d122f",
   "metadata": {},
   "outputs": [
    {
     "data": {
      "text/plain": [
       "UniqueCarrier  Delayed\n",
       "WN             True       324717\n",
       "AA             True       172197\n",
       "MQ             True       130647\n",
       "UA             True       123989\n",
       "OO             True       121942\n",
       "dtype: int64"
      ]
     },
     "execution_count": 11,
     "metadata": {},
     "output_type": "execute_result"
    }
   ],
   "source": [
    "air_df.value_counts(subset=['UniqueCarrier','Delayed'])[:5]"
   ]
  },
  {
   "cell_type": "markdown",
   "id": "22fa2c45",
   "metadata": {},
   "source": [
    "#### Los vuelos más largos y vuelos con más retraso"
   ]
  },
  {
   "cell_type": "code",
   "execution_count": 12,
   "id": "e9d40508",
   "metadata": {},
   "outputs": [
    {
     "data": {
      "text/html": [
       "<div>\n",
       "<style scoped>\n",
       "    .dataframe tbody tr th:only-of-type {\n",
       "        vertical-align: middle;\n",
       "    }\n",
       "\n",
       "    .dataframe tbody tr th {\n",
       "        vertical-align: top;\n",
       "    }\n",
       "\n",
       "    .dataframe thead th {\n",
       "        text-align: right;\n",
       "    }\n",
       "</style>\n",
       "<table border=\"1\" class=\"dataframe\">\n",
       "  <thead>\n",
       "    <tr style=\"text-align: right;\">\n",
       "      <th></th>\n",
       "      <th>Year</th>\n",
       "      <th>Month</th>\n",
       "      <th>DayofMonth</th>\n",
       "      <th>DepTime</th>\n",
       "      <th>Distance</th>\n",
       "      <th>UniqueCarrier</th>\n",
       "      <th>FlightNum</th>\n",
       "      <th>Origin</th>\n",
       "      <th>Dest</th>\n",
       "    </tr>\n",
       "  </thead>\n",
       "  <tbody>\n",
       "    <tr>\n",
       "      <th>1255581</th>\n",
       "      <td>2008</td>\n",
       "      <td>7</td>\n",
       "      <td>18</td>\n",
       "      <td>2001.0</td>\n",
       "      <td>4962</td>\n",
       "      <td>CO</td>\n",
       "      <td>14</td>\n",
       "      <td>HNL</td>\n",
       "      <td>EWR</td>\n",
       "    </tr>\n",
       "    <tr>\n",
       "      <th>1926346</th>\n",
       "      <td>2008</td>\n",
       "      <td>12</td>\n",
       "      <td>20</td>\n",
       "      <td>2333.0</td>\n",
       "      <td>4962</td>\n",
       "      <td>CO</td>\n",
       "      <td>14</td>\n",
       "      <td>HNL</td>\n",
       "      <td>EWR</td>\n",
       "    </tr>\n",
       "    <tr>\n",
       "      <th>718062</th>\n",
       "      <td>2008</td>\n",
       "      <td>4</td>\n",
       "      <td>25</td>\n",
       "      <td>1345.0</td>\n",
       "      <td>4962</td>\n",
       "      <td>CO</td>\n",
       "      <td>15</td>\n",
       "      <td>EWR</td>\n",
       "      <td>HNL</td>\n",
       "    </tr>\n",
       "    <tr>\n",
       "      <th>1928077</th>\n",
       "      <td>2008</td>\n",
       "      <td>12</td>\n",
       "      <td>16</td>\n",
       "      <td>2135.0</td>\n",
       "      <td>4962</td>\n",
       "      <td>CO</td>\n",
       "      <td>14</td>\n",
       "      <td>HNL</td>\n",
       "      <td>EWR</td>\n",
       "    </tr>\n",
       "    <tr>\n",
       "      <th>173695</th>\n",
       "      <td>2008</td>\n",
       "      <td>1</td>\n",
       "      <td>13</td>\n",
       "      <td>1326.0</td>\n",
       "      <td>4962</td>\n",
       "      <td>CO</td>\n",
       "      <td>15</td>\n",
       "      <td>EWR</td>\n",
       "      <td>HNL</td>\n",
       "    </tr>\n",
       "  </tbody>\n",
       "</table>\n",
       "</div>"
      ],
      "text/plain": [
       "         Year  Month  DayofMonth  DepTime  Distance UniqueCarrier  FlightNum  \\\n",
       "1255581  2008      7          18   2001.0      4962            CO         14   \n",
       "1926346  2008     12          20   2333.0      4962            CO         14   \n",
       "718062   2008      4          25   1345.0      4962            CO         15   \n",
       "1928077  2008     12          16   2135.0      4962            CO         14   \n",
       "173695   2008      1          13   1326.0      4962            CO         15   \n",
       "\n",
       "        Origin Dest  \n",
       "1255581    HNL  EWR  \n",
       "1926346    HNL  EWR  \n",
       "718062     EWR  HNL  \n",
       "1928077    HNL  EWR  \n",
       "173695     EWR  HNL  "
      ]
     },
     "execution_count": 12,
     "metadata": {},
     "output_type": "execute_result"
    }
   ],
   "source": [
    "air_df.sort_values(by='Distance', ascending=False)[:5][['Year','Month','DayofMonth','DepTime',\n",
    "                                                        'Distance','UniqueCarrier','FlightNum','Origin','Dest']]"
   ]
  },
  {
   "cell_type": "code",
   "execution_count": 13,
   "id": "379aca93",
   "metadata": {},
   "outputs": [
    {
     "data": {
      "text/html": [
       "<div>\n",
       "<style scoped>\n",
       "    .dataframe tbody tr th:only-of-type {\n",
       "        vertical-align: middle;\n",
       "    }\n",
       "\n",
       "    .dataframe tbody tr th {\n",
       "        vertical-align: top;\n",
       "    }\n",
       "\n",
       "    .dataframe thead th {\n",
       "        text-align: right;\n",
       "    }\n",
       "</style>\n",
       "<table border=\"1\" class=\"dataframe\">\n",
       "  <thead>\n",
       "    <tr style=\"text-align: right;\">\n",
       "      <th></th>\n",
       "      <th>Year</th>\n",
       "      <th>Month</th>\n",
       "      <th>DayofMonth</th>\n",
       "      <th>DepTime</th>\n",
       "      <th>ArrDelay</th>\n",
       "      <th>UniqueCarrier</th>\n",
       "      <th>FlightNum</th>\n",
       "      <th>Origin</th>\n",
       "      <th>Dest</th>\n",
       "    </tr>\n",
       "  </thead>\n",
       "  <tbody>\n",
       "    <tr>\n",
       "      <th>322516</th>\n",
       "      <td>2008</td>\n",
       "      <td>2</td>\n",
       "      <td>3</td>\n",
       "      <td>1117.0</td>\n",
       "      <td>2461.0</td>\n",
       "      <td>NW</td>\n",
       "      <td>808</td>\n",
       "      <td>HNL</td>\n",
       "      <td>MSP</td>\n",
       "    </tr>\n",
       "    <tr>\n",
       "      <th>686014</th>\n",
       "      <td>2008</td>\n",
       "      <td>4</td>\n",
       "      <td>10</td>\n",
       "      <td>724.0</td>\n",
       "      <td>2453.0</td>\n",
       "      <td>NW</td>\n",
       "      <td>1699</td>\n",
       "      <td>CLT</td>\n",
       "      <td>MSP</td>\n",
       "    </tr>\n",
       "    <tr>\n",
       "      <th>839306</th>\n",
       "      <td>2008</td>\n",
       "      <td>5</td>\n",
       "      <td>6</td>\n",
       "      <td>2.0</td>\n",
       "      <td>1951.0</td>\n",
       "      <td>NW</td>\n",
       "      <td>1107</td>\n",
       "      <td>RSW</td>\n",
       "      <td>DTW</td>\n",
       "    </tr>\n",
       "    <tr>\n",
       "      <th>1009553</th>\n",
       "      <td>2008</td>\n",
       "      <td>6</td>\n",
       "      <td>20</td>\n",
       "      <td>2140.0</td>\n",
       "      <td>1707.0</td>\n",
       "      <td>MQ</td>\n",
       "      <td>3538</td>\n",
       "      <td>LIT</td>\n",
       "      <td>DFW</td>\n",
       "    </tr>\n",
       "    <tr>\n",
       "      <th>1881639</th>\n",
       "      <td>2008</td>\n",
       "      <td>12</td>\n",
       "      <td>19</td>\n",
       "      <td>1602.0</td>\n",
       "      <td>1655.0</td>\n",
       "      <td>NW</td>\n",
       "      <td>357</td>\n",
       "      <td>BOS</td>\n",
       "      <td>MSP</td>\n",
       "    </tr>\n",
       "  </tbody>\n",
       "</table>\n",
       "</div>"
      ],
      "text/plain": [
       "         Year  Month  DayofMonth  DepTime  ArrDelay UniqueCarrier  FlightNum  \\\n",
       "322516   2008      2           3   1117.0    2461.0            NW        808   \n",
       "686014   2008      4          10    724.0    2453.0            NW       1699   \n",
       "839306   2008      5           6      2.0    1951.0            NW       1107   \n",
       "1009553  2008      6          20   2140.0    1707.0            MQ       3538   \n",
       "1881639  2008     12          19   1602.0    1655.0            NW        357   \n",
       "\n",
       "        Origin Dest  \n",
       "322516     HNL  MSP  \n",
       "686014     CLT  MSP  \n",
       "839306     RSW  DTW  \n",
       "1009553    LIT  DFW  \n",
       "1881639    BOS  MSP  "
      ]
     },
     "execution_count": 13,
     "metadata": {},
     "output_type": "execute_result"
    }
   ],
   "source": [
    "air_df.sort_values(by='ArrDelay', ascending=False)[:5][['Year','Month','DayofMonth','DepTime',\n",
    "                                                        'ArrDelay','UniqueCarrier','FlightNum','Origin','Dest']]"
   ]
  },
  {
   "cell_type": "markdown",
   "id": "4e0347cb",
   "metadata": {},
   "source": [
    "### Ejercicio 3"
   ]
  },
  {
   "cell_type": "markdown",
   "id": "4edc749e",
   "metadata": {},
   "source": [
    "#### Exportamos el DataFrame limpio y con las nuevas columnas a un archivo de Excel\n",
    "<div class=\"alert alert-block alert-info\">\n",
    "    Sólo exporto las primeras 1000 filas por agilidad en la subida. Además,Excel no puede abrir en un archivo todas las filas que tiene el DataFrame y al exportar se obtiene el error:\n",
    "    <b>\"mValueError: This sheet is too large! Your sheet size is: 1936758, 32 Max sheet size is: 1048576, 16384\"</b>\n",
    "<div>"
   ]
  },
  {
   "cell_type": "code",
   "execution_count": 14,
   "id": "3b36e9a7",
   "metadata": {},
   "outputs": [],
   "source": [
    "air_df[:1000].to_excel('air_df_clean.xlsx', sheet_name='Sheet1')"
   ]
  }
 ],
 "metadata": {
  "kernelspec": {
   "display_name": "Python 3",
   "language": "python",
   "name": "python3"
  },
  "language_info": {
   "codemirror_mode": {
    "name": "ipython",
    "version": 3
   },
   "file_extension": ".py",
   "mimetype": "text/x-python",
   "name": "python",
   "nbconvert_exporter": "python",
   "pygments_lexer": "ipython3",
   "version": "3.8.8"
  },
  "varInspector": {
   "cols": {
    "lenName": 16,
    "lenType": 16,
    "lenVar": 40
   },
   "kernels_config": {
    "python": {
     "delete_cmd_postfix": "",
     "delete_cmd_prefix": "del ",
     "library": "var_list.py",
     "varRefreshCmd": "print(var_dic_list())"
    },
    "r": {
     "delete_cmd_postfix": ") ",
     "delete_cmd_prefix": "rm(",
     "library": "var_list.r",
     "varRefreshCmd": "cat(var_dic_list()) "
    }
   },
   "types_to_exclude": [
    "module",
    "function",
    "builtin_function_or_method",
    "instance",
    "_Feature"
   ],
   "window_display": false
  }
 },
 "nbformat": 4,
 "nbformat_minor": 5
}
