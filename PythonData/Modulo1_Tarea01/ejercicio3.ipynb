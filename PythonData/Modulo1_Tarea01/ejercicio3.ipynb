{
 "cells": [
  {
   "cell_type": "code",
   "execution_count": 1,
   "id": "e087c9b9",
   "metadata": {},
   "outputs": [],
   "source": [
    "import numpy as np"
   ]
  },
  {
   "cell_type": "code",
   "execution_count": 2,
   "id": "c660f702",
   "metadata": {},
   "outputs": [],
   "source": [
    "def suma_filacolumnas(tabla):\n",
    "    print (\"Suma filas: \"+str(np.apply_along_axis(sum, 0, tabla)))\n",
    "    print (\"Suma columnas: \"+str(np.apply_along_axis(sum, 1, tabla)))"
   ]
  },
  {
   "cell_type": "code",
   "execution_count": 3,
   "id": "40897ea9",
   "metadata": {},
   "outputs": [
    {
     "name": "stdout",
     "output_type": "stream",
     "text": [
      "[[6 3 2]\n",
      " [8 0 3]\n",
      " [4 6 2]]\n"
     ]
    }
   ],
   "source": [
    "tabla = np.random.randint(0,10,(3,3))\n",
    "print (tabla)\n"
   ]
  },
  {
   "cell_type": "code",
   "execution_count": 4,
   "id": "5a25119f",
   "metadata": {},
   "outputs": [
    {
     "name": "stdout",
     "output_type": "stream",
     "text": [
      "Suma filas: [18  9  7]\n",
      "Suma columnas: [11 11 12]\n"
     ]
    }
   ],
   "source": [
    "suma_filacolumnas(tabla)"
   ]
  },
  {
   "cell_type": "code",
   "execution_count": null,
   "id": "df9095d9",
   "metadata": {},
   "outputs": [],
   "source": []
  }
 ],
 "metadata": {
  "kernelspec": {
   "display_name": "Python 3",
   "language": "python",
   "name": "python3"
  },
  "language_info": {
   "codemirror_mode": {
    "name": "ipython",
    "version": 3
   },
   "file_extension": ".py",
   "mimetype": "text/x-python",
   "name": "python",
   "nbconvert_exporter": "python",
   "pygments_lexer": "ipython3",
   "version": "3.8.8"
  },
  "varInspector": {
   "cols": {
    "lenName": 16,
    "lenType": 16,
    "lenVar": 40
   },
   "kernels_config": {
    "python": {
     "delete_cmd_postfix": "",
     "delete_cmd_prefix": "del ",
     "library": "var_list.py",
     "varRefreshCmd": "print(var_dic_list())"
    },
    "r": {
     "delete_cmd_postfix": ") ",
     "delete_cmd_prefix": "rm(",
     "library": "var_list.r",
     "varRefreshCmd": "cat(var_dic_list()) "
    }
   },
   "types_to_exclude": [
    "module",
    "function",
    "builtin_function_or_method",
    "instance",
    "_Feature"
   ],
   "window_display": false
  }
 },
 "nbformat": 4,
 "nbformat_minor": 5
}
