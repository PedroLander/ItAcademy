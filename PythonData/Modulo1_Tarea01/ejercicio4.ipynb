{
 "cells": [
  {
   "cell_type": "code",
   "execution_count": 1,
   "id": "c29c3682",
   "metadata": {},
   "outputs": [],
   "source": [
    "import numpy as np\n",
    "import math"
   ]
  },
  {
   "cell_type": "markdown",
   "id": "af352f1c",
   "metadata": {},
   "source": [
    "#### Ecuación para el cálculo del coeficiente de correlación de Pearson:\n",
    "\n",
    "$$\n",
    "  r_{xy}\n",
    "=\\frac{\\sum_{i=1}^n\\left(x_i-\\bar{x}\\right)\\left(y_i-\\bar{y}\\right)}{\\sqrt{\\sum_{i=1}^n\\left(x_i-\\bar{x}\\right)^2}\\sqrt{\\sum_{i=1}^n\\left(y_i-\\bar{y}\\right)^2}}\n",
    "$$"
   ]
  },
  {
   "cell_type": "code",
   "execution_count": 2,
   "id": "6df58e89",
   "metadata": {},
   "outputs": [],
   "source": [
    "def correl(x, y):\n",
    "    x_med = np.mean(x)\n",
    "    y_med = np.mean(y)\n",
    "    \n",
    "    x_diffs = [x_i - x_med for x_i in x]\n",
    "    y_diffs = [y_i - y_med for y_i in y]\n",
    "    \n",
    "    numerador = sum(np.multiply(x_diffs,y_diffs))\n",
    "    denominador = math.sqrt(sum([x_diff**2 for x_diff in x_diffs])) * math.sqrt(sum([y_diff**2 for y_diff in y_diffs]))\n",
    "    \n",
    "    coef = numerador / denominador\n",
    "    return coef"
   ]
  },
  {
   "cell_type": "code",
   "execution_count": 3,
   "id": "ae6dc184",
   "metadata": {},
   "outputs": [
    {
     "data": {
      "text/plain": [
       "-0.6546536707079773"
      ]
     },
     "execution_count": 3,
     "metadata": {},
     "output_type": "execute_result"
    }
   ],
   "source": [
    "x = [4,7,6]\n",
    "y = [7,4,1]\n",
    "\n",
    "correl(x, y)"
   ]
  },
  {
   "cell_type": "code",
   "execution_count": 4,
   "id": "3a1c0faa",
   "metadata": {},
   "outputs": [
    {
     "data": {
      "text/plain": [
       "array([[ 1.        , -0.65465367],\n",
       "       [-0.65465367,  1.        ]])"
      ]
     },
     "execution_count": 4,
     "metadata": {},
     "output_type": "execute_result"
    }
   ],
   "source": [
    "np.corrcoef(x,y)"
   ]
  }
 ],
 "metadata": {
  "kernelspec": {
   "display_name": "Python 3",
   "language": "python",
   "name": "python3"
  },
  "language_info": {
   "codemirror_mode": {
    "name": "ipython",
    "version": 3
   },
   "file_extension": ".py",
   "mimetype": "text/x-python",
   "name": "python",
   "nbconvert_exporter": "python",
   "pygments_lexer": "ipython3",
   "version": "3.8.8"
  },
  "varInspector": {
   "cols": {
    "lenName": 16,
    "lenType": 16,
    "lenVar": 40
   },
   "kernels_config": {
    "python": {
     "delete_cmd_postfix": "",
     "delete_cmd_prefix": "del ",
     "library": "var_list.py",
     "varRefreshCmd": "print(var_dic_list())"
    },
    "r": {
     "delete_cmd_postfix": ") ",
     "delete_cmd_prefix": "rm(",
     "library": "var_list.r",
     "varRefreshCmd": "cat(var_dic_list()) "
    }
   },
   "types_to_exclude": [
    "module",
    "function",
    "builtin_function_or_method",
    "instance",
    "_Feature"
   ],
   "window_display": false
  }
 },
 "nbformat": 4,
 "nbformat_minor": 5
}
